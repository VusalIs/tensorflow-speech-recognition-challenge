{
  "nbformat": 4,
  "nbformat_minor": 0,
  "metadata": {
    "colab": {
      "name": "MS.ipynb",
      "private_outputs": true,
      "provenance": [],
      "collapsed_sections": [],
      "toc_visible": true,
      "authorship_tag": "ABX9TyM16QAJlWwhUHuycUYc4wrj",
      "include_colab_link": true
    },
    "kernelspec": {
      "name": "python3",
      "display_name": "Python 3"
    },
    "accelerator": "GPU"
  },
  "cells": [
    {
      "cell_type": "markdown",
      "metadata": {
        "id": "view-in-github",
        "colab_type": "text"
      },
      "source": [
        "<a href=\"https://colab.research.google.com/github/VusalIs/tensorflow-speech-recognition-challenge/blob/main/MS.ipynb\" target=\"_parent\"><img src=\"https://colab.research.google.com/assets/colab-badge.svg\" alt=\"Open In Colab\"/></a>"
      ]
    },
    {
      "cell_type": "markdown",
      "metadata": {
        "id": "4ldmJAvC4Kcb"
      },
      "source": [
        "#Download data and unzip it"
      ]
    },
    {
      "cell_type": "markdown",
      "metadata": {
        "id": "zvBshkryqsc0"
      },
      "source": [
        "Download the data zip file"
      ]
    },
    {
      "cell_type": "code",
      "metadata": {
        "id": "RMpycXLdqCaB"
      },
      "source": [
        "from google.colab import files\n",
        "files.upload()\n",
        "!pip install --upgrade --force-reinstall --no-deps kaggle\n",
        "!pip install -q kaggle\n",
        "!mkdir -p ~/.kaggle\n",
        "!cp kaggle.json ~/.kaggle/\n",
        "!chmod 600 ~/.kaggle/kaggle.json\n",
        "!kaggle competitions download -c tensorflow-speech-recognition-challenge"
      ],
      "execution_count": null,
      "outputs": []
    },
    {
      "cell_type": "markdown",
      "metadata": {
        "id": "Rrg3giIQqzvf"
      },
      "source": [
        "Uzip the data"
      ]
    },
    {
      "cell_type": "code",
      "metadata": {
        "id": "DfkR2v39qNY0"
      },
      "source": [
        "!mkdir unzipped-data\n",
        "!unzip /content/tensorflow-speech-recognition-challenge.zip -d /content/unzipped-data"
      ],
      "execution_count": null,
      "outputs": []
    },
    {
      "cell_type": "markdown",
      "metadata": {
        "id": "OUeyzs_Hq110"
      },
      "source": [
        "Unzip training data"
      ]
    },
    {
      "cell_type": "code",
      "metadata": {
        "id": "DWuVNGvRqpVn"
      },
      "source": [
        "!7z x /content/unzipped-data/train.7z"
      ],
      "execution_count": null,
      "outputs": []
    },
    {
      "cell_type": "markdown",
      "metadata": {
        "id": "059DNAi8q628"
      },
      "source": [
        "Unzip the test data"
      ]
    },
    {
      "cell_type": "code",
      "metadata": {
        "id": "9OLuuzka_P0G"
      },
      "source": [
        "!7z x /content/unzipped-data/test.7z"
      ],
      "execution_count": null,
      "outputs": []
    },
    {
      "cell_type": "markdown",
      "metadata": {
        "id": "7c5uHoks4ZFF"
      },
      "source": [
        "#Preprocessing"
      ]
    },
    {
      "cell_type": "markdown",
      "metadata": {
        "id": "-RGajl8z4efv"
      },
      "source": [
        "Import dependencies"
      ]
    },
    {
      "cell_type": "code",
      "metadata": {
        "id": "jJNzROUG4hqy"
      },
      "source": [
        "import os\n",
        "from os.path import isdir, join\n",
        "from pathlib import Path\n",
        "import pandas as pd\n",
        "\n",
        "# Math\n",
        "import numpy as np\n",
        "from scipy.fftpack import fft\n",
        "from scipy import signal\n",
        "from scipy.io import wavfile\n",
        "import librosa\n",
        "\n",
        "from sklearn.decomposition import PCA\n",
        "\n",
        "# Visualization\n",
        "import matplotlib.pyplot as plt\n",
        "import seaborn as sns\n",
        "import IPython.display as ipd\n",
        "import librosa.display\n",
        "\n",
        "import plotly.offline as py\n",
        "py.init_notebook_mode()\n",
        "import plotly.graph_objs as go\n",
        "import plotly.tools as tls\n",
        "import pandas as pd\n",
        "\n",
        "%matplotlib inline"
      ],
      "execution_count": null,
      "outputs": []
    },
    {
      "cell_type": "markdown",
      "metadata": {
        "id": "7nwE_EyJ4ruw"
      },
      "source": [
        "Take some random data audio to show general features"
      ]
    },
    {
      "cell_type": "code",
      "metadata": {
        "id": "olUp7UmG4wEW"
      },
      "source": [
        "train_audio_path = '/content/train/audio/'\n",
        "filename = '/yes/004ae714_nohash_0.wav'\n",
        "samples, sample_rate = librosa.load(str(train_audio_path)+filename)"
      ],
      "execution_count": null,
      "outputs": []
    },
    {
      "cell_type": "code",
      "metadata": {
        "id": "FxqYxDoL5H34"
      },
      "source": [
        "def log_specgram(audio, sample_rate, window_size=20,\n",
        "                 step_size=10, eps=1e-10):\n",
        "    nperseg = int(round(window_size * sample_rate / 1e3))\n",
        "    noverlap = int(round(step_size * sample_rate / 1e3))\n",
        "    freqs, times, spec = signal.spectrogram(audio,\n",
        "                                    fs=sample_rate,\n",
        "                                    window='hann',\n",
        "                                    nperseg=nperseg,\n",
        "                                    noverlap=noverlap,\n",
        "                                    detrend=False)\n",
        "    return freqs, times, np.log(spec.T.astype(np.float32) + eps)"
      ],
      "execution_count": null,
      "outputs": []
    },
    {
      "cell_type": "code",
      "metadata": {
        "id": "nS1X_i9D5URW"
      },
      "source": [
        "freqs, times, spectrogram = log_specgram(samples, sample_rate)\n",
        "\n",
        "fig = plt.figure(figsize=(14, 8))\n",
        "ax1 = fig.add_subplot(211)\n",
        "ax1.set_title('Raw wave of ' + filename)\n",
        "ax1.set_ylabel('Amplitude')\n",
        "ax1.plot(np.linspace(0, sample_rate/len(samples), sample_rate), samples)\n",
        "\n",
        "ax2 = fig.add_subplot(212)\n",
        "ax2.imshow(spectrogram.T, aspect='auto', origin='lower', \n",
        "           extent=[times.min(), times.max(), freqs.min(), freqs.max()])\n",
        "ax2.set_yticks(freqs[::16])\n",
        "ax2.set_xticks(times[::16])\n",
        "ax2.set_title('Spectrogram of ' + filename)\n",
        "ax2.set_ylabel('Freqs in Hz')\n",
        "ax2.set_xlabel('Seconds')"
      ],
      "execution_count": null,
      "outputs": []
    },
    {
      "cell_type": "markdown",
      "metadata": {
        "id": "xhZljp975od5"
      },
      "source": [
        "Visualize Mel power spectrogram"
      ]
    },
    {
      "cell_type": "code",
      "metadata": {
        "id": "-cNvxA7H5tbc"
      },
      "source": [
        "S = librosa.feature.melspectrogram(samples, sr=sample_rate, n_mels=128)\n",
        "\n",
        "log_S = librosa.power_to_db(S, ref=np.max)\n",
        "\n",
        "plt.figure(figsize=(12, 4))\n",
        "librosa.display.specshow(log_S, sr=sample_rate, x_axis='time', y_axis='mel')\n",
        "plt.title('Mel power spectrogram ')\n",
        "plt.colorbar(format='%+02.0f dB')\n",
        "plt.tight_layout()\n"
      ],
      "execution_count": null,
      "outputs": []
    },
    {
      "cell_type": "markdown",
      "metadata": {
        "id": "lL_T1sBN75b3"
      },
      "source": [
        "Visualize MFCC"
      ]
    },
    {
      "cell_type": "code",
      "metadata": {
        "id": "ezXLFT-B78kn"
      },
      "source": [
        "mfcc = librosa.feature.mfcc(S=log_S, n_mfcc=13)\n",
        "\n",
        "delta2_mfcc = librosa.feature.delta(mfcc, order=2)\n",
        "\n",
        "plt.figure(figsize=(12, 4))\n",
        "librosa.display.specshow(delta2_mfcc)\n",
        "plt.ylabel('MFCC coeffs')\n",
        "plt.xlabel('Time')\n",
        "plt.title('MFCC')\n",
        "plt.colorbar()\n",
        "plt.tight_layout()"
      ],
      "execution_count": null,
      "outputs": []
    },
    {
      "cell_type": "markdown",
      "metadata": {
        "id": "mPaKLSkt9yKM"
      },
      "source": [
        "Let's listen to the audio"
      ]
    },
    {
      "cell_type": "code",
      "metadata": {
        "id": "6q5uBv6699zI"
      },
      "source": [
        "ipd.Audio(samples, rate=sample_rate)"
      ],
      "execution_count": null,
      "outputs": []
    },
    {
      "cell_type": "markdown",
      "metadata": {
        "id": "wnvQsL2y-DiO"
      },
      "source": [
        "As you hear the pause is so much which makes training more difficult and It should take so much time. Let's see cutted version. The numbers are kind of random."
      ]
    },
    {
      "cell_type": "code",
      "metadata": {
        "id": "nXX62VJQ-VIQ"
      },
      "source": [
        "samples_cut = samples[4000:20000]\n",
        "ipd.Audio(samples_cut, rate=sample_rate)"
      ],
      "execution_count": null,
      "outputs": []
    },
    {
      "cell_type": "markdown",
      "metadata": {
        "id": "q6hDRNDu-gSS"
      },
      "source": [
        "The word still can be heard clearly. We can agree that the entire word can be heard. It is impossible to cut all the files manually and do this basing on the simple plot. But you can use for example webrtcvad package to have a good VAD.\n",
        "\n",
        "Let's plot it again, together with guessed alignment of 'y' 'e' 's' graphems"
      ]
    },
    {
      "cell_type": "code",
      "metadata": {
        "id": "gPAEiBWt-qhs"
      },
      "source": [
        "freqs, times, spectrogram_cut = log_specgram(samples_cut, sample_rate)\n",
        "\n",
        "fig = plt.figure(figsize=(14, 8))\n",
        "ax1 = fig.add_subplot(211)\n",
        "ax1.set_title('Raw wave of ' + filename)\n",
        "ax1.set_ylabel('Amplitude')\n",
        "ax1.plot(samples_cut)\n",
        "\n",
        "ax2 = fig.add_subplot(212)\n",
        "ax2.set_title('Spectrogram of ' + filename)\n",
        "ax2.set_ylabel('Frequencies * 0.1')\n",
        "ax2.set_xlabel('Samples')\n",
        "ax2.imshow(spectrogram_cut.T, aspect='auto', origin='lower', \n",
        "           extent=[times.min(), times.max(), freqs.min(), freqs.max()])\n",
        "ax2.set_yticks(freqs[::16])\n",
        "ax2.set_xticks(times[::16])\n",
        "ax2.text(0.06, 1000, 'Y', fontsize=18)\n",
        "ax2.text(0.17, 1000, 'E', fontsize=18)\n",
        "ax2.text(0.36, 1000, 'S', fontsize=18)\n",
        "\n",
        "xcoords = [0.025, 0.11, 0.23, 0.49]\n",
        "for xc in xcoords:\n",
        "    ax1.axvline(x=xc*16000, c='r')\n",
        "    ax2.axvline(x=xc, c='r')"
      ],
      "execution_count": null,
      "outputs": []
    },
    {
      "cell_type": "markdown",
      "metadata": {
        "id": "RuMhDTRg_MC5"
      },
      "source": [
        "#Dataset Investigation"
      ]
    },
    {
      "cell_type": "code",
      "metadata": {
        "id": "xoVYIZBO_VCJ"
      },
      "source": [
        "dirs = [f for f in os.listdir(train_audio_path) if isdir(join(train_audio_path, f))]\n",
        "dirs.sort()\n",
        "print('Number of labels: ' + str(len(dirs)))"
      ],
      "execution_count": null,
      "outputs": []
    },
    {
      "cell_type": "code",
      "metadata": {
        "id": "0RioCrWH_ZGH"
      },
      "source": [
        "number_of_recordings = []\n",
        "for direct in dirs:\n",
        "    waves = [f for f in os.listdir(join(train_audio_path, direct)) if f.endswith('.wav')]\n",
        "    number_of_recordings.append(len(waves))\n",
        "\n",
        "data = [go.Histogram(x=dirs, y=number_of_recordings)]\n",
        "trace = go.Bar(\n",
        "    x=dirs,\n",
        "    y=number_of_recordings,\n",
        "    marker=dict(color = number_of_recordings, colorscale='sunset', showscale=True),\n",
        ")\n",
        "layout = go.Layout(\n",
        "    title='Number of recordings in given label',\n",
        "    xaxis = dict(title='Words'),\n",
        "    yaxis = dict(title='Number of recordings')\n",
        ")\n",
        "\n",
        "py.iplot(go.Figure(data=[trace], layout=layout))"
      ],
      "execution_count": null,
      "outputs": []
    },
    {
      "cell_type": "markdown",
      "metadata": {
        "id": "yBZwrM_gp-Y1"
      },
      "source": [
        "As you see data is balanced, but it works with some of us. That is why we added a picture.![newplot.png](data:image/png;base64,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)"
      ]
    },
    {
      "cell_type": "code",
      "metadata": {
        "id": "2w30bcsSZaqW"
      },
      "source": [
        "def extract_features(direct, filename): \n",
        "    d = dict() \n",
        "    data, sr = librosa.load(f'/content/train/audio/{direct}/{filename}')\n",
        "    d['mfccs'] = np.mean(librosa.feature.mfcc(y = data, n_fft=250, sr=sr).T, axis = 0)\n",
        "    d['stft'] = np.abs(librosa.stft(data))\n",
        "    d['chroma'] = np.mean(librosa.feature.chroma_stft(S = d['stft'], sr = sr).T, axis = 0)\n",
        "    d['mel'] = np.mean(librosa.feature.melspectrogram(data, sr).T, axis = 0)\n",
        "    d['contrast'] = np.mean(librosa.feature.spectral_contrast(S = d['stft'], sr = sr).T, axis = 0)\n",
        "    d['tonnetz'] = np.mean(librosa.feature.tonnetz(y = librosa.effects.harmonic(data), sr = sr).T, axis = 0)\n",
        "    return d"
      ],
      "execution_count": null,
      "outputs": []
    },
    {
      "cell_type": "code",
      "metadata": {
        "id": "-XCfCeT9rDNZ"
      },
      "source": [
        "data_list = list()\n",
        "for direct in dirs:\n",
        "    waves = [f for f in os.listdir(join(train_audio_path, direct)) if f.endswith('.wav')]\n",
        "    number_of_recordings.append(len(waves))\n",
        "    for filename in waves:\n",
        "      data_list.append(extract_features(direct, filename))\n",
        "print(data_list)"
      ],
      "execution_count": null,
      "outputs": []
    }
  ]
}